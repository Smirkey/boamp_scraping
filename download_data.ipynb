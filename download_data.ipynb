{
 "cells": [
  {
   "cell_type": "code",
   "execution_count": 51,
   "metadata": {},
   "outputs": [],
   "source": [
    "from urllib.request import Request, urlopen, urlretrieve\n",
    "import bs4 as BeautifulSoup\n",
    "import os\n",
    "import glob\n",
    "import progressbar\n",
    "import zipfile \n",
    "import tarfile"
   ]
  },
  {
   "cell_type": "code",
   "execution_count": 2,
   "metadata": {},
   "outputs": [],
   "source": [
    "base_url = 'https://echanges.dila.gouv.fr/OPENDATA/BOAMP/'\n",
    "casual_header = {'User-Agent': 'Mozilla/5.0'}"
   ]
  },
  {
   "cell_type": "code",
   "execution_count": 3,
   "metadata": {},
   "outputs": [],
   "source": [
    "def clear_link(link):\n",
    "    link = str(link)\n",
    "    start = link.find('BOAMP')\n",
    "    end = link.find('.taz')\n",
    "    cleared = link[start: end + len('.taz')]\n",
    "    return cleared "
   ]
  },
  {
   "cell_type": "code",
   "execution_count": 4,
   "metadata": {},
   "outputs": [],
   "source": [
    "def map(n, xStart, yStart, xTarget, yTarget):\n",
    "    return xTarget + n/(yStart + xStart)*(yTarget - xTarget)"
   ]
  },
  {
   "cell_type": "code",
   "execution_count": 55,
   "metadata": {},
   "outputs": [],
   "source": [
    "def extract_archives(folder, year):\n",
    "    \n",
    "    if year in [2017, 2018]:\n",
    "        directories = glob.glob('{}/*'.format(folder))\n",
    "    \n",
    "        if not os.path.exists('tmp'):\n",
    "                os.makedirs('tmp')\n",
    "                \n",
    "        for i in range(len(directories)):\n",
    "            \n",
    "            zipf = zipfile.ZipFile(directories[i], 'r')\n",
    "            zipf.extractall('tmp/{}'.format(directories[i][5:-4]))\n",
    "            zipf.close()\n",
    "\n",
    "        directories2 = glob.glob('tmp/*/*')\n",
    "    \n",
    "        for i in range(len(directories2)):\n",
    "\n",
    "            tarf = tarfile.open(directories2[i])\n",
    "            tarf.extractall('{}/'.format(folder))\n",
    "            tarf.close()\n",
    "    \n",
    "        for file in glob.glob('tmp/*/*'):\n",
    "            os.remove(file)\n",
    "    \n",
    "        for directory in glob.glob('tmp/*'):\n",
    "            os.rmdir(directory)\n",
    "    \n",
    "        os.rmdir('tmp')\n",
    "    \n",
    "        for file in glob.glob('{}/*.taz'.format(folder)):\n",
    "            os.remove(file)\n",
    "            \n",
    "    elif year in [2005 + i for i in range(12)]:\n",
    "        folders = glob.glob('{}/*/*'.format(folder))\n",
    "        for file in folders:\n",
    "            with zipfile.ZipFile(file) as zip:                \n",
    "                for zip_info in zip.infolist():\n",
    "                    if zip_info.filename[-1] == '/':\n",
    "                        continue\n",
    "                    zip_info.filename = os.path.basename(zip_info.filename)\n",
    "                    zip.extract(zip_info, file[:-8])"
   ]
  },
  {
   "cell_type": "code",
   "execution_count": 6,
   "metadata": {},
   "outputs": [],
   "source": [
    "api_dic = {2016: 'Boamp_v230',\n",
    "           2015: 'Boamp_v230',\n",
    "           2014: 'Boamp_v110',\n",
    "           2013: 'Boamp_v110',\n",
    "           2012: 'Boamp_v110',\n",
    "           2011: 'Boamp_v110',\n",
    "           2010: 'Boamp_v110',\n",
    "           2009: 'Boamp_v110',\n",
    "           2008: 'Boamp_v110',\n",
    "           2007: 'Boamp_v110',\n",
    "           2006: 'Boamp_v010',\n",
    "           2005: 'Boamp_v010'}\n",
    "\n",
    "recent = {'jao': 'BOAMP-J-AO',\n",
    "            'jicaa': 'BOAMP-J-IC-AA',\n",
    "            'nao': 'BOAMP-N-AO',\n",
    "            'nicaa': 'BOAMP-N-IC-AA',\n",
    "            'mapao': 'MAPA-AO',\n",
    "            'maaicaa': 'MAPA-IC-AA'}\n",
    "\n",
    "very_old = {'mpa': 'mpa',\n",
    "                 'mpb': 'mpb',\n",
    "                 'mpc': 'mpc'}\n",
    "\n",
    "old = {'mpa': 'mpa',\n",
    "            'mpb': 'mpb',\n",
    "            'mpc': 'mpc',\n",
    "            'mapa': 'mapa'}\n",
    "\n",
    "utilidic = {'jao': 'BOAMP-J-AO',\n",
    "            'jicaa': 'BOAMP-J-IC-AA',\n",
    "            'nao': 'BOAMP-N-AO',\n",
    "            'nicaa': 'BOAMP-N-IC-AA',\n",
    "            'mapao': 'MAPA-AO',\n",
    "            'maaicaa': 'MAPA-IC-AA',\n",
    "            'mpa': 'mpa',\n",
    "            'mpb': 'mpb',\n",
    "            'mpc': 'mpc',\n",
    "            'mapa': 'mapa'}"
   ]
  },
  {
   "cell_type": "code",
   "execution_count": 7,
   "metadata": {},
   "outputs": [],
   "source": [
    "def loadnsave(key, year, folder):\n",
    "    \n",
    "    os.makedirs('{}/{}'.format(folder, utilidic[key]))\n",
    "    url = base_url + 'FluxHistorique/{}/{}/{}/xml.zip'.format(api_dic[year], \n",
    "                                                              year,\n",
    "                                                              utilidic[key])\n",
    "    req = Request(url, headers=casual_header)\n",
    "    f = open('{}/{}/xml.zip'.format(year, utilidic[key]), 'wb')\n",
    "    f.write(urlopen(url).read())"
   ]
  },
  {
   "cell_type": "code",
   "execution_count": 8,
   "metadata": {},
   "outputs": [],
   "source": [
    "def download_data(year, folder):\n",
    "    \n",
    "    years = [2005 + i for i in range(12)]\n",
    "    \n",
    "    if not os.path.exists(folder):\n",
    "        os.makedirs(folder)\n",
    "        \n",
    "    if year in years[-2:]:\n",
    "        for key in recent.keys():\n",
    "            \n",
    "            loadnsave(key, year, folder)\n",
    "            \n",
    "        extract_archives(folder, year)\n",
    "    \n",
    "    elif year in years[2:-2]:\n",
    "        for key in old.keys():\n",
    "            \n",
    "            loadnsave(key, year, folder)\n",
    "            \n",
    "        extract_archives(folder, year)\n",
    "         \n",
    "    elif year in years[:2]:\n",
    "        for key in very_old.keys():\n",
    "            \n",
    "            loadnsave(key, year, folder)\n",
    "            \n",
    "        extract_archives(folder, year)\n",
    "    \n",
    "    elif year == 2018 or 2017:\n",
    "        \n",
    "        base_url = 'https://echanges.dila.gouv.fr/OPENDATA/BOAMP/{}/'.format(year)\n",
    "        req = Request(base_url, headers=casual_header)\n",
    "        resp = str(urlopen(req).read())\n",
    "        \n",
    "        soup = BeautifulSoup.BeautifulSoup(resp)\n",
    "        souped = soup.find_all('a')\n",
    "        \n",
    "        links = []\n",
    "    \n",
    "        for i in range(len(souped)):\n",
    "            if \".taz\" in str(souped[i]):\n",
    "                cleared = clear_link(souped[i])\n",
    "                if len(cleared) > 0:\n",
    "                    links.append(cleared)\n",
    "        \n",
    "        links = list(set(links))\n",
    "        \n",
    "        for i in range(len(links)):\n",
    "            f = open('{}/{}'.format(folder, links[i]),'wb')\n",
    "            f.write(urlopen(base_url + links[i]).read())\n",
    "        \n",
    "        extract_archives(folder, year)\n",
    "\n",
    "        \n",
    "    \n"
   ]
  },
  {
   "cell_type": "code",
   "execution_count": 53,
   "metadata": {
    "scrolled": true
   },
   "outputs": [],
   "source": [
    "def download_all():\n",
    "    years = [2005 + i for i in range(14)]\n",
    "    \n",
    "    bar = progressbar.ProgressBar(maxval=len(years), \\\n",
    "    widgets=[progressbar.Bar('=', '[', ']'), ' ', progressbar.Percentage(), ' (', progressbar.ETA(), ') '])\n",
    "    bar.start()\n",
    "\n",
    "    for i in range(len(years)):\n",
    "        bar.update(i)\n",
    "        download_data(years[i], str(years[i]))\n"
   ]
  },
  {
   "cell_type": "code",
   "execution_count": 54,
   "metadata": {},
   "outputs": [
    {
     "name": "stderr",
     "output_type": "stream",
     "text": [
      "[===================================================    ]  92% (ETA:  0:01:49) \r"
     ]
    }
   ],
   "source": [
    "download_all()"
   ]
  },
  {
   "cell_type": "code",
   "execution_count": 257,
   "metadata": {},
   "outputs": [],
   "source": [
    "years = [2005 + i for i in range(12)]"
   ]
  },
  {
   "cell_type": "code",
   "execution_count": 260,
   "metadata": {},
   "outputs": [
    {
     "data": {
      "text/plain": [
       "[2005, 2006]"
      ]
     },
     "execution_count": 260,
     "metadata": {},
     "output_type": "execute_result"
    }
   ],
   "source": [
    "years[:2]"
   ]
  }
 ],
 "metadata": {
  "kernelspec": {
   "display_name": "Python 3",
   "language": "python",
   "name": "python3"
  },
  "language_info": {
   "codemirror_mode": {
    "name": "ipython",
    "version": 3
   },
   "file_extension": ".py",
   "mimetype": "text/x-python",
   "name": "python",
   "nbconvert_exporter": "python",
   "pygments_lexer": "ipython3",
   "version": "3.5.2"
  }
 },
 "nbformat": 4,
 "nbformat_minor": 2
}
