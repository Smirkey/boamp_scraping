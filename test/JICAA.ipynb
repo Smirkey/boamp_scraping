{
 "cells": [
  {
   "cell_type": "code",
   "execution_count": 10,
   "metadata": {},
   "outputs": [],
   "source": [
    "import glob\n",
    "import zipfile \n",
    "import os\n",
    "import xml.etree.ElementTree as ET\n",
    "import csv"
   ]
  },
  {
   "cell_type": "code",
   "execution_count": 9,
   "metadata": {},
   "outputs": [],
   "source": [
    "paths_jicaa = ['GESTION/REFERENCE/IDWEB', \n",
    "               'DONNEES/IDENTITE/',\n",
    "               'DONNEES/OBJET/',\n",
    "               'DONNEES/OBJET/LOTS/LOT/CRITERES_ATTRIBUTION/',\n",
    "               'DONNEES/ATTRIBUTION/']"
   ]
  },
  {
   "cell_type": "code",
   "execution_count": 7,
   "metadata": {},
   "outputs": [],
   "source": [
    "def extract_jicaa(file):\n",
    "    \n",
    "    pairs = []\n",
    "    tree = ET.parse(file)\n",
    "    root = tree.getroot()\n",
    "    \n",
    "    for path in paths_jicaa:\n",
    "        for element in root.findall(path):\n",
    "            if element.text is not None:\n",
    "                pairs.append([element.tag, element.text])\n",
    "    for element in tree.findall(\"*/*/*/*/*\"):\n",
    "        if element.text is not None:\n",
    "            pairs.append([element.tag, element.text])\n",
    "    \n",
    "    return pairs"
   ]
  },
  {
   "cell_type": "code",
   "execution_count": 47,
   "metadata": {},
   "outputs": [],
   "source": [
    "def write_jicaa_to_csv(jicaa, filename, n=0):\n",
    "    #jicaa = clean_dic(nicaa)\n",
    "    \n",
    "    if not os.path.exists('extraction_jicatests2K5/{}'.format(n)):\n",
    "            os.makedirs('extraction_jicatests2K5/{}'.format(n))\n",
    "    \n",
    "    with open('extraction_jicatests2K5/{}/{}.csv'.format(n, filename), 'w', newline='') as csvfile:\n",
    "        spamwriter = csv.writer(csvfile, delimiter=',',\n",
    "                                quotechar=' ', quoting=csv.QUOTE_ALL)\n",
    "        for pair in jicaa:\n",
    "            spamwriter.writerow(pair)"
   ]
  },
  {
   "cell_type": "code",
   "execution_count": 42,
   "metadata": {},
   "outputs": [],
   "source": [
    "def compile_jicaa_folder(folder):\n",
    "    p = []\n",
    "    files = glob.glob('{}/*.xml'.format(folder))\n",
    "    \n",
    "    for f in files:\n",
    "        p.append(extract_jicaa(f))\n",
    "    \n",
    "    for i in range(len(p)):\n",
    "        write_jicaa_to_csv(p[i], i)"
   ]
  },
  {
   "cell_type": "code",
   "execution_count": 49,
   "metadata": {},
   "outputs": [],
   "source": [
    "p = compile_jicaa_folder('JICAA')"
   ]
  },
  {
   "cell_type": "code",
   "execution_count": 35,
   "metadata": {},
   "outputs": [
    {
     "data": {
      "text/plain": [
       "[['IDWEB', '17-83909'],\n",
       " ['DENOMINATION', \"Ville d'Andrésy\"],\n",
       " ['CODE_IDENT_NATIONAL', '21780015000013'],\n",
       " ['CONTACT', 'Service des marchés publics'],\n",
       " ['ADJUDICATEUR_NUTS', 'FR103'],\n",
       " ['ADRESSE', '4 boulevard Noël Marc'],\n",
       " ['CP', '78570'],\n",
       " ['VILLE', 'ANDRESY'],\n",
       " ['TEL', '(+33) 1-39-27-11-04'],\n",
       " ['FAX', '(+33) 1-39-27-11-49'],\n",
       " ['MEL', 'achats-marches@andresy.com'],\n",
       " ['URL', 'http://www.andresy.com'],\n",
       " ['URL_PROFIL_ACHETEUR', 'http://www.marches-publics.info'],\n",
       " ['TITRE_MARCHE',\n",
       "  \"Concession d'aménagement pour l'opération d'aménagement du secteur de la gare principale d'Andrésy\"],\n",
       " ['REF_MARCHE', '15-148618'],\n",
       " ['OBJET_COMPLET',\n",
       "  \"La Concession d'aménagement a pour objet principal la réalisation d'un programme minimum de 200 logements et de 2 000 mètres carrées de commerces et services ainsi que la création d'un parc relais et d'un programme d'espaces et d'équipements publics. Le concessionnaire sera tenu de réaliser à ses frais et risques le projet d'aménagement du site.\"],\n",
       " ['INFO_COMPL',\n",
       "  \"L'estimation des dépenses pour l'opération d'aménagement résulte d'une étude réalisée par l'EFIF ( le montant indiqué ne prend pas en compte des recettes liées à l'opération d'aménagement). \"],\n",
       " ['CODE', '33'],\n",
       " ['LIBELLE', 'Bâtiment'],\n",
       " ['CODE', '274'],\n",
       " ['LIBELLE', 'Prestations de services'],\n",
       " ['DESCRIPTION',\n",
       "  \"La concession d'aménagement a pour objet principal la réalisation d'un programme minimum de 200 logements et 2000 mètres carrés de commerces et services ainsi que la création d'un parc relais et d'un programme d'espaces et d'équipements publics. Le concessionnaire sera tenu de réaliser à ses frais et risques le projet d'aménagement. \"],\n",
       " ['CODE_NUTS', 'FR103'],\n",
       " ['LIEU_PRINCIPAL', \"Ville d'Andrésy\"],\n",
       " ['DUREE_MOIS', '60'],\n",
       " ['ANNEE', '2015'],\n",
       " ['NUM_PARUTION', '192'],\n",
       " ['NUM_ANNONCE', '346860'],\n",
       " ['DATE_PUBLICATION', '2017-10-03'],\n",
       " ['DENOMINATION', 'CITALLIOS'],\n",
       " ['ADRESSE', '28 boulevard Emile Zola '],\n",
       " ['CP', '92020'],\n",
       " ['VILLE', 'NANTERRE'],\n",
       " ['CODE_NUTS', 'FR10'],\n",
       " ['URL', 'http://citallios.fr/'],\n",
       " ['DATE_ATTRIBUTION', '2017-06-01'],\n",
       " ['NB_OFFRE_RECU', '2'],\n",
       " ['NB_OFFRE_RECU_PME', '0'],\n",
       " ['NB_OFFRE_RECU_UE', '0'],\n",
       " ['NB_OFFRE_RECU_NON_UE', '0'],\n",
       " ['NB_OFFRE_RECU_ELECT', '0'],\n",
       " ['ESTIMATION_INITIALE', '9685548'],\n",
       " ['MONTANT', '16213846.36'],\n",
       " ['DENOMINATION', 'Tribunal Administratif de Versailles'],\n",
       " ['ADRESSE', '56 avenue de Saint Cloud'],\n",
       " ['CP', '78011'],\n",
       " ['VILLE', 'VERSAILLES'],\n",
       " ['TEL', '(+33) 1-39-20-54-00'],\n",
       " ['FAX', '(+33) 1-39-20-54-22'],\n",
       " ['MEL', 'greffe.ta-versailles@juradm.fr'],\n",
       " ['URL', 'http://www.ta-versailles.juradm.fr'],\n",
       " ['DENOMINATION', 'Tribunal Administratif de Versailles'],\n",
       " ['ADRESSE', '56 avenue de Saint Cloud'],\n",
       " ['CP', '78011'],\n",
       " ['VILLE', 'VERSAILLES'],\n",
       " ['TEL', '(+33) 1-39-20-54-00'],\n",
       " ['FAX', '(+33) 1-39-20-54-22'],\n",
       " ['MEL', 'greffe.ta-versailles@juradm.fr'],\n",
       " ['URL', 'http://www.ta-versailles.juradm.fr']]"
      ]
     },
     "execution_count": 35,
     "metadata": {},
     "output_type": "execute_result"
    }
   ],
   "source": [
    "p[0] "
   ]
  }
 ],
 "metadata": {
  "kernelspec": {
   "display_name": "Python 3",
   "language": "python",
   "name": "python3"
  },
  "language_info": {
   "codemirror_mode": {
    "name": "ipython",
    "version": 3
   },
   "file_extension": ".py",
   "mimetype": "text/x-python",
   "name": "python",
   "nbconvert_exporter": "python",
   "pygments_lexer": "ipython3",
   "version": "3.5.2"
  }
 },
 "nbformat": 4,
 "nbformat_minor": 2
}
