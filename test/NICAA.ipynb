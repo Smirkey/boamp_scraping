{
 "cells": [
  {
   "cell_type": "code",
   "execution_count": 2,
   "metadata": {},
   "outputs": [],
   "source": [
    "import glob\n",
    "import zipfile \n",
    "import os\n",
    "import xml.etree.ElementTree as ET\n",
    "import collections\n",
    "import csv\n"
   ]
  },
  {
   "cell_type": "code",
   "execution_count": 3,
   "metadata": {},
   "outputs": [],
   "source": [
    "def read_decisions(root, path, pairs):\n",
    "    pairs_renseignement = []\n",
    "    pairs_titulaire = []\n",
    "    for element in root.findall(path):\n",
    "        for child in element:\n",
    "            \n",
    "            if child.text is not None: \n",
    "                pairs.append([child.tag, child.text])\n",
    "                \n",
    "            if child.tag == 'RENSEIGNEMENT':\n",
    "                for hijo in child:\n",
    "                    pairs_renseignement.append([hijo.tag, hijo.text])\n",
    "                    \n",
    "            if child.tag == 'TITULAIRE':\n",
    "                for hijo in child:\n",
    "                    pairs_titulaire.append([hijo.tag, hijo.text])\n",
    "                    \n",
    "    return pairs, pairs_renseignement, pairs_titulaire"
   ]
  },
  {
   "cell_type": "code",
   "execution_count": 4,
   "metadata": {},
   "outputs": [],
   "source": [
    "def extract_nicaa(file):\n",
    "    \n",
    "    pairs = []\n",
    "    tree = ET.parse(file)\n",
    "    root = tree.getroot()\n",
    "    \n",
    "    paths_nicaa = ['GESTION/REFERENCE/IDWEB',\n",
    "                   'GESTION/MARCHE/ANNONCE_ANTERIEUR/REFERENCE/IDWEB',\n",
    "                   'DONNEES/IDENTITE/',\n",
    "                   'DONNEES/OBJET/OBJET_COMPLET']\n",
    "    \n",
    "    for path in paths_nicaa:\n",
    "        for element in root.findall(path):\n",
    "            pairs.append([element.tag, element.text])\n",
    "            \n",
    "    pairs_renseignement, pairs_titulaire, pairs = read_decisions(root, 'DONNEES/ATTRIBUTION/', pairs)\n",
    "    return pairs, pairs_renseignement, pairs_titulaire\n"
   ]
  },
  {
   "cell_type": "code",
   "execution_count": 62,
   "metadata": {},
   "outputs": [],
   "source": [
    "def clean_dic(dic):\n",
    "    new_dic = {}\n",
    "    for key in dic.keys():\n",
    "        new_container = []\n",
    "        for pair in dic[key]:\n",
    "            new_pair = []\n",
    "            for element in pair:\n",
    "                if element is not None:\n",
    "                    new_pair.append(element.replace(',', ''))\n",
    "            new_container.append(new_pair)\n",
    "        new_dic[key] = new_container\n",
    "    return new_dic"
   ]
  },
  {
   "cell_type": "code",
   "execution_count": 117,
   "metadata": {},
   "outputs": [],
   "source": [
    "def write_nicaa_to_csv(nicaa, filename, n):\n",
    "    nicaa = clean_dic(nicaa)\n",
    "    if not os.path.exists('extraction_tests2K5/{}'.format(n)):\n",
    "            os.makedirs('extraction_tests2K5/{}'.format(n))\n",
    "    with open('extraction_tests2K5/{}/{}.csv'.format(n, filename), 'w', newline='') as csvfile:\n",
    "        spamwriter = csv.writer(csvfile, delimiter=',',\n",
    "                                quotechar=' ', quoting=csv.QUOTE_ALL)\n",
    "        for key in nicaa.keys():\n",
    "            for pair in nicaa[key]:\n",
    "                spamwriter.writerow(pair)"
   ]
  },
  {
   "cell_type": "code",
   "execution_count": 97,
   "metadata": {},
   "outputs": [],
   "source": [
    "def compile_nicaa_folder(folder, n):\n",
    "    lp = []\n",
    "    files = glob.glob('{}/*.xml'.format(folder))\n",
    "    for f in files:\n",
    "        p, p1, p2 = extract_nicaa(f) \n",
    "        lp.append({'pairs': p, 'pairs_renseignement': p1, 'pairs_titulaire': p2 })\n",
    "    for i in range(len(lp)):\n",
    "        write_nicaa_to_csv(lp[i], i, n)\n",
    "        "
   ]
  },
  {
   "cell_type": "code",
   "execution_count": 94,
   "metadata": {},
   "outputs": [],
   "source": [
    "folders = glob.glob('/home/guillaume/Documents/BOAMP SHIT/2017/BOAMP-N-IC-AA*') "
   ]
  },
  {
   "cell_type": "code",
   "execution_count": 109,
   "metadata": {},
   "outputs": [],
   "source": [
    "files = glob.glob('/home/guillaume/Documents/BOAMP SHIT/test/xml/*')"
   ]
  },
  {
   "cell_type": "code",
   "execution_count": 111,
   "metadata": {},
   "outputs": [
    {
     "data": {
      "text/plain": [
       "'/home/guillaume/Documents/BOAMP SHIT/test/xml/16-33134.xml'"
      ]
     },
     "execution_count": 111,
     "metadata": {},
     "output_type": "execute_result"
    }
   ],
   "source": [
    "files[0]"
   ]
  },
  {
   "cell_type": "code",
   "execution_count": 118,
   "metadata": {
    "scrolled": false
   },
   "outputs": [],
   "source": [
    "compile_nicaa_folder('/home/guillaume/Documents/BOAMP SHIT/test/xml', 0)"
   ]
  },
  {
   "cell_type": "code",
   "execution_count": 103,
   "metadata": {},
   "outputs": [],
   "source": [
    "all = glob.glob('extraction_tests2K17/*/*.csv')"
   ]
  },
  {
   "cell_type": "code",
   "execution_count": 104,
   "metadata": {},
   "outputs": [
    {
     "data": {
      "text/plain": [
       "11744"
      ]
     },
     "execution_count": 104,
     "metadata": {},
     "output_type": "execute_result"
    }
   ],
   "source": [
    "len(all)"
   ]
  }
 ],
 "metadata": {
  "kernelspec": {
   "display_name": "Python 3",
   "language": "python",
   "name": "python3"
  },
  "language_info": {
   "codemirror_mode": {
    "name": "ipython",
    "version": 3
   },
   "file_extension": ".py",
   "mimetype": "text/x-python",
   "name": "python",
   "nbconvert_exporter": "python",
   "pygments_lexer": "ipython3",
   "version": "3.5.2"
  }
 },
 "nbformat": 4,
 "nbformat_minor": 2
}
