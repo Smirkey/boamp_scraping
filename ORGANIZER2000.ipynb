{
 "cells": [
  {
   "cell_type": "code",
   "execution_count": 1,
   "metadata": {},
   "outputs": [],
   "source": [
    "import glob\n",
    "import zipfile \n",
    "import os\n",
    "import xml.etree.ElementTree as ET\n",
    "import collections\n",
    "import csv\n",
    "import random\n",
    "from bs4 import BeautifulSoup\n",
    "import progressbar\n",
    "import numpy"
   ]
  },
  {
   "cell_type": "code",
   "execution_count": 3,
   "metadata": {},
   "outputs": [],
   "source": [
    "paths_common = ['DONNEES/IDENT/NOM',\n",
    "                'DONNEES/IDENT/PRM',\n",
    "                'DONNEES/IDENT/ADRESSE',\n",
    "                'DONNEES/IDENT/CP',\n",
    "                'DONNEES/IDENT/VILLE',\n",
    "                'DONNEES/IDENT/MEL',\n",
    "                'DONNEES/OBJET/OBJET_COMPLET',\n",
    "                'DONNEES/DESCRIPTEURS']\n",
    "paths_take_all = ['GESTION',\n",
    "'DONNEES/CLASSES',\n",
    "'DONNEES/DESCRIPTEURS'\n",
    "'DONNEES/PROCEDURES/LOTS'\n",
    "'DONNEES/PROCEDURES/AUTRES'\n",
    "]"
   ]
  },
  {
   "cell_type": "code",
   "execution_count": 4,
   "metadata": {},
   "outputs": [],
   "source": [
    "def clean_pair(pair):\n",
    "    new_pair = ['','']\n",
    "    for i in range(len(pair)):\n",
    "        new_pair[i] = pair[i].replace(',', '')\n",
    "        new_pair[i] = new_pair[i].replace('\\n', '')\n",
    "    return new_pair"
   ]
  },
  {
   "cell_type": "code",
   "execution_count": 5,
   "metadata": {},
   "outputs": [],
   "source": [
    "def xml_parser(paths_common, paths_take_all, file):\n",
    "    pairs=[]\n",
    "    for path in paths_take_all:\n",
    "        element = file.find(path)\n",
    "        if element is not None:\n",
    "            pairs.append(clean_pair([element.tag, element.text]))\n",
    "    for path in paths_common:\n",
    "        if file.find(path) is not None: \n",
    "            for element in file.find(path):\n",
    "                #print(element)\n",
    "                if element.tag and element.text is not None:\n",
    "                    pairs.append(clean_pair([element.tag, element.text]))\n",
    "    return pairs"
   ]
  },
  {
   "cell_type": "code",
   "execution_count": 6,
   "metadata": {},
   "outputs": [],
   "source": [
    "def write_to_csv(big_pair_list, file_name):\n",
    "    bar3 = pbar(len(big_pair_list))\n",
    "    with open('{}.csv'.format(file_name), 'w') as file:\n",
    "        spamwriter = csv.writer(file, delimiter=',', quotechar=' ',\n",
    "                            quoting=csv.QUOTE_ALL)\n",
    "        for pair_list in big_pair_list:\n",
    "            bar3.update(big_pair_list.index(pair_list))\n",
    "            \n",
    "            #print(pair_list)\n",
    "            tags = []\n",
    "            text = []\n",
    "            for pair in pair_list:\n",
    "                tags.append(pair[0])\n",
    "                text.append(pair[1])\n",
    "            spamwriter.writerow(tags)\n",
    "            spamwriter.writerow(text)"
   ]
  },
  {
   "cell_type": "code",
   "execution_count": 7,
   "metadata": {},
   "outputs": [],
   "source": [
    "def pbar(maxlen):\n",
    "    \n",
    "    bar = progressbar.ProgressBar(maxval=maxlen, \\\n",
    "    widgets=[progressbar.Bar('=', '[', ']'), ' ', progressbar.Percentage(), ' (', progressbar.ETA(), ') '])\n",
    "    \n",
    "    bar.start()\n",
    "    \n",
    "    return bar"
   ]
  },
  {
   "cell_type": "code",
   "execution_count": 12,
   "metadata": {},
   "outputs": [],
   "source": [
    "def write_years2csv(start, end):\n",
    "    \n",
    "    years = [start + i for i in range(end - start + 1)]\n",
    "    \n",
    "    for i in range(len(years)):\n",
    "        paths = glob.glob('{}/mp*/*.xml'.format(years[i]))\n",
    "        annonces = []\n",
    "    \n",
    "        bar = pbar(len(paths))\n",
    "    \n",
    "        for path in paths:\n",
    "            bar.update(paths.index(path))\n",
    "            file = open(path, encoding='ISO-8859-1')\n",
    "            apple = file.read()\n",
    "            apple = apple.replace('&apos;', \"'\")\n",
    "            apple = apple.replace('&deg;', '°')\n",
    "            apple = apple.replace('&quot;', '\"')\n",
    "            tree = ET.fromstring(apple)\n",
    "            a = tree.getchildren()\n",
    "    \n",
    "            annonces.append(a)\n",
    "    \n",
    "        p = []\n",
    "        bar2 = pbar(len(annonces))\n",
    "        for annonce in annonces:\n",
    "            bar2.update(annonces.index(annonce))\n",
    "            for j in range(len(annonce)):\n",
    "                p.append(xml_parser(paths_common, paths_take_all, annonce[j]))\n",
    "        write_to_csv(p, year)\n",
    "\n",
    "    "
   ]
  },
  {
   "cell_type": "code",
   "execution_count": null,
   "metadata": {},
   "outputs": [
    {
     "name": "stderr",
     "output_type": "stream",
     "text": [
      "[====================                                  ]  38% (ETA:   0:00:18) "
     ]
    }
   ],
   "source": [
    "write_years2csv(2005, 2005)"
   ]
  }
 ],
 "metadata": {
  "kernelspec": {
   "display_name": "Python 3",
   "language": "python",
   "name": "python3"
  },
  "language_info": {
   "codemirror_mode": {
    "name": "ipython",
    "version": 3
   },
   "file_extension": ".py",
   "mimetype": "text/x-python",
   "name": "python",
   "nbconvert_exporter": "python",
   "pygments_lexer": "ipython3",
   "version": "3.5.2"
  }
 },
 "nbformat": 4,
 "nbformat_minor": 2
}
