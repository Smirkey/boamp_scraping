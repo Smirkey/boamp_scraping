{
 "cells": [
  {
   "cell_type": "code",
   "execution_count": 56,
   "metadata": {},
   "outputs": [],
   "source": [
    "import glob\n",
    "import zipfile \n",
    "import os\n",
    "import xml.etree.ElementTree as ET\n",
    "import collections\n",
    "import csv\n",
    "import random\n",
    "from bs4 import BeautifulSoup\n",
    "import progressbar\n",
    "import numpy as np"
   ]
  },
  {
   "cell_type": "code",
   "execution_count": 82,
   "metadata": {},
   "outputs": [],
   "source": [
    "paths_common = ['GESTION/NOJO',\n",
    "                'GESTION/TETIER_R4',\n",
    "                'GESTION/NOM_HTML',\n",
    "                'DONNEES/IDENT/NOM',\n",
    "                'DONNEES/IDENT/PRM',\n",
    "                'DONNEES/IDENT/ADRESSE',\n",
    "                'DONNEES/IDENT/CP',\n",
    "                'DONNEES/IDENT/VILLE',\n",
    "                'DONNEES/IDENT/MEL',\n",
    "                'DONNEES/IDENT/TEL',\n",
    "                'DONNEES/OBJET/OBJET_COMPLET']\n",
    "\n",
    "give_me_the_tag = ['DONNEES/INFO',\n",
    "                   'DONNEES/TYPE_ACTIVITE_ORG']\n",
    "\n",
    "paths_take_all = ['DONNEES/CLASSES',\n",
    "                  'DONNEES/DESCRIPTEURS',\n",
    "                  'DONNEES/CARACTERISTIQUES']\n",
    "\n",
    "jump_a_line = ['DONNEES/PROCEDURES/LOTS']"
   ]
  },
  {
   "cell_type": "code",
   "execution_count": 70,
   "metadata": {},
   "outputs": [],
   "source": [
    "def path2tag(path):\n",
    "    \n",
    "    pavel = ''\n",
    "    \n",
    "    for i in reversed(path):\n",
    "        if i != '/':\n",
    "            pavel += i\n",
    "        if i == '/':\n",
    "            break\n",
    "    return pavel[::-1]"
   ]
  },
  {
   "cell_type": "code",
   "execution_count": 69,
   "metadata": {},
   "outputs": [
    {
     "data": {
      "text/plain": [
       "'TELPMOC_TEJBO'"
      ]
     },
     "execution_count": 69,
     "metadata": {},
     "output_type": "execute_result"
    }
   ],
   "source": [
    "path"
   ]
  },
  {
   "cell_type": "code",
   "execution_count": 102,
   "metadata": {},
   "outputs": [],
   "source": [
    "def xml_parser(paths_common, paths_take_all, file):\n",
    "    pairs=[]\n",
    "    \n",
    "    for path in paths_common:\n",
    "        element = file.find(path)\n",
    "        if element is not None:\n",
    "            if element.text is not None:\n",
    "                pairs.append([element.tag, element.text])\n",
    "            else:\n",
    "                pairs.append([element.tag, ''])\n",
    "        elif element is None:\n",
    "            pairs.append([path2tag(path), ''])\n",
    "    \n",
    "    for path in give_me_the_tag:\n",
    "        element = file.find(path)\n",
    "        pavel = ''\n",
    "        if element is not None:\n",
    "            for child in element.getchildren():\n",
    "                if child is not None:\n",
    "                    pavel += child.tag\n",
    "            pairs.append([path2tag(path), pavel])\n",
    "        elif element is None:\n",
    "            pairs.append([path2tag(path), ''])\n",
    "            \n",
    "        \n",
    "         \n",
    "    for path in paths_take_all:\n",
    "        element = file.find(path)\n",
    "        if element is not None:\n",
    "            reslist = list(element.iter())\n",
    "            result = ' '.join([element.text for element in reslist if element.text is not None])\n",
    "            pairs.append([element.tag, result])\n",
    "        \n",
    "            \n",
    "    return pairs \n"
   ]
  },
  {
   "cell_type": "code",
   "execution_count": 73,
   "metadata": {},
   "outputs": [],
   "source": [
    "def write_to_csv(big_pair_list, file_name):\n",
    "    bar3 = pbar(len(big_pair_list))\n",
    "    big=[]\n",
    "    with open('{}.csv'.format(file_name), 'w') as file:\n",
    "        spamwriter = csv.writer(file, delimiter=',', quotechar=' ',\n",
    "                            quoting=csv.QUOTE_ALL)\n",
    "        for pair_list in big_pair_list:\n",
    "            bar3.update(big_pair_list.index(pair_list))\n",
    "            \n",
    "            #print(pair_list)\n",
    "            tags = []\n",
    "            text = []\n",
    "            \n",
    "            for pair in pair_list:\n",
    "                tags.append(pair[0])\n",
    "                text.append(pair[1])\n",
    "            #spamwriter.writerow(tags)\n",
    "            #spamwriter.writerow(text)\n",
    "            big.append(tags)\n",
    "            big.append(text)\n",
    "        np.savetxt(file, np.asarray(big), delimiter=\",\", fmt='%s')\n",
    "            "
   ]
  },
  {
   "cell_type": "code",
   "execution_count": 8,
   "metadata": {},
   "outputs": [],
   "source": [
    "def pbar(maxlen):\n",
    "    \n",
    "    bar = progressbar.ProgressBar(maxval=maxlen, \\\n",
    "    widgets=[progressbar.Bar('=', '[', ']'), ' ', progressbar.Percentage(), ' (', progressbar.ETA(), ') '])\n",
    "    \n",
    "    bar.start()\n",
    "    \n",
    "    return bar"
   ]
  },
  {
   "cell_type": "code",
   "execution_count": 75,
   "metadata": {},
   "outputs": [],
   "source": [
    "def write_years2csv(start, end):\n",
    "    \n",
    "    years = [start + i for i in range(end - start + 1)]\n",
    "    \n",
    "    for i in range(len(years)):\n",
    "        paths = glob.glob('{}/mpc/*.xml'.format(years[i]))\n",
    "        annonces = []\n",
    "    \n",
    "        bar = pbar(len(paths))\n",
    "        \n",
    "    \n",
    "        for path in paths:\n",
    "            bar.update(paths.index(path))\n",
    "            file = open(path, encoding='ISO-8859-1')\n",
    "            apple = file.read()\n",
    "            \n",
    "            apple = apple.replace('&apos;', \"'\")\n",
    "            apple = apple.replace('&deg;', '°')\n",
    "            apple = apple.replace('&quot;', '\"')\n",
    "            apple = apple.replace('\\t', '')\n",
    "            apple = apple.replace(',', '')\n",
    "            apple = apple.replace('\\n', '')\n",
    "            \n",
    "            tree = ET.fromstring(apple)\n",
    "            a = tree.getchildren()\n",
    "    \n",
    "            annonces.append(a)\n",
    "    \n",
    "        p = []\n",
    "        bar2 = pbar(len(annonces))\n",
    "        for annonce in annonces:\n",
    "            bar2.update(annonces.index(annonce))\n",
    "            for j in range(len(annonce)):\n",
    "                extracted_annonce = xml_parser(paths_common, paths_take_all, annonce[j])\n",
    "                p.append(extracted_annonce)\n",
    "        write_to_csv(p, years[i])\n",
    "\n",
    "    "
   ]
  },
  {
   "cell_type": "code",
   "execution_count": null,
   "metadata": {},
   "outputs": [
    {
     "name": "stderr",
     "output_type": "stream",
     "text": [
      "[===============================                       ]  59% (ETA:   0:02:28) "
     ]
    }
   ],
   "source": [
    "write_years2csv(2005, 2005)"
   ]
  },
  {
   "cell_type": "code",
   "execution_count": 81,
   "metadata": {},
   "outputs": [],
   "source": [
    "paths = glob.glob('2005/mpa/*.xml')\n",
    "file = open(random.choice(paths), encoding='ISO-8859-1')\n",
    "apple = file.read()\n",
    "apple = apple.replace('&apos;', \"'\")\n",
    "apple = apple.replace('&deg;', '°')\n",
    "apple = apple.replace('&quot;', '\"')\n",
    "tree = ET.fromstring(apple)\n",
    "a = tree.getchildren()\n"
   ]
  },
  {
   "cell_type": "code",
   "execution_count": 83,
   "metadata": {},
   "outputs": [],
   "source": [
    "classes = a[10].find(give_me_the_tag[1])"
   ]
  },
  {
   "cell_type": "code",
   "execution_count": 100,
   "metadata": {},
   "outputs": [],
   "source": [
    "reslist = list(classes.iter())\n",
    "result = ' '.join([element.text for element in reslist])"
   ]
  },
  {
   "cell_type": "code",
   "execution_count": 55,
   "metadata": {},
   "outputs": [],
   "source": [
    "import numpy as np\n",
    "a = np.asarray([[\"pipi\", \"caca, prout\"], [\"chiasse\", \"\"]])\n",
    "numpy.savetxt(\"foo.csv\", a, delimiter=\",\", fmt='%s')\n"
   ]
  }
 ],
 "metadata": {
  "kernelspec": {
   "display_name": "Python 3",
   "language": "python",
   "name": "python3"
  },
  "language_info": {
   "codemirror_mode": {
    "name": "ipython",
    "version": 3
   },
   "file_extension": ".py",
   "mimetype": "text/x-python",
   "name": "python",
   "nbconvert_exporter": "python",
   "pygments_lexer": "ipython3",
   "version": "3.5.2"
  }
 },
 "nbformat": 4,
 "nbformat_minor": 2
}
