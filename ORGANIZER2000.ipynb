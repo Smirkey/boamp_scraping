{
 "cells": [
  {
   "cell_type": "code",
   "execution_count": 3,
   "metadata": {},
   "outputs": [],
   "source": [
    "import glob\n",
    "import zipfile \n",
    "import os\n",
    "import xml.etree.ElementTree as ET\n",
    "import collections\n",
    "import csv\n",
    "import random\n",
    "from bs4 import BeautifulSoup\n",
    "import progressbar\n",
    "import numpy as np\n",
    "from collections import deque"
   ]
  },
  {
   "cell_type": "code",
   "execution_count": 4,
   "metadata": {},
   "outputs": [],
   "source": [
    "paths_common = ['GESTION/NOJO',\n",
    "                'GESTION/TETIER_R4',\n",
    "                'GESTION/NOM_HTML',\n",
    "                'DONNEES/IDENT/NOM',\n",
    "                'DONNEES/IDENT/PRM',\n",
    "                'DONNEES/IDENT/ADRESSE',\n",
    "                'DONNEES/IDENT/CP',\n",
    "                'DONNEES/IDENT/VILLE',\n",
    "                'DONNEES/IDENT/MEL',\n",
    "                'DONNEES/IDENT/TEL',\n",
    "                'DONNEES/OBJET/OBJET_COMPLET'\n",
    "                ]\n",
    "\n",
    "#give_me_the_tag = ['DONNEES/INFO',\n",
    "                   #'DONNEES/TYPE_ACTIVITE_ORG']\n",
    "\n",
    "paths_take_all = ['DONNEES/PROCEDURES/LOTS',\n",
    "                  'DONNEES/CLASSES',\n",
    "                  'DONNEES/DESCRIPTEURS',\n",
    "                  'DONNEES/CARACTERISTIQUES']\n",
    "\n",
    "jump_a_line = ['DONNEES/PROCEDURES/LOTS']"
   ]
  },
  {
   "cell_type": "code",
   "execution_count": 5,
   "metadata": {},
   "outputs": [],
   "source": [
    "def path2tag(path):\n",
    "    \n",
    "    pavel = ''\n",
    "    \n",
    "    for i in reversed(path):\n",
    "        if i != '/':\n",
    "            pavel += i\n",
    "        if i == '/':\n",
    "            break\n",
    "    return pavel[::-1]"
   ]
  },
  {
   "cell_type": "code",
   "execution_count": 6,
   "metadata": {},
   "outputs": [
    {
     "ename": "NameError",
     "evalue": "name 'path' is not defined",
     "output_type": "error",
     "traceback": [
      "\u001b[0;31m---------------------------------------------------------------------------\u001b[0m",
      "\u001b[0;31mNameError\u001b[0m                                 Traceback (most recent call last)",
      "\u001b[0;32m<ipython-input-6-012ab3a6b187>\u001b[0m in \u001b[0;36m<module>\u001b[0;34m()\u001b[0m\n\u001b[0;32m----> 1\u001b[0;31m \u001b[0mpath\u001b[0m\u001b[0;34m\u001b[0m\u001b[0m\n\u001b[0m",
      "\u001b[0;31mNameError\u001b[0m: name 'path' is not defined"
     ]
    }
   ],
   "source": [
    "path"
   ]
  },
  {
   "cell_type": "code",
   "execution_count": 7,
   "metadata": {},
   "outputs": [],
   "source": [
    "def xml_parser(paths_common, paths_take_all, file):\n",
    "    pairs=[]\n",
    "    \n",
    "    for path in paths_common:\n",
    "        element = file.find(path)\n",
    "        if element is not None:\n",
    "            if element.text is not None:\n",
    "                pairs.append([element.tag, element.text])\n",
    "            else:\n",
    "                pairs.append([element.tag, ''])\n",
    "        elif element is None:\n",
    "            pairs.append([path2tag(path), ''])\n",
    "    \"\"\"\n",
    "    for path in give_me_the_tag:\n",
    "        element = file.find(path)\n",
    "        pavel = ''\n",
    "        if element is not None:\n",
    "            for child in element.getchildren():\n",
    "                if child is not None:\n",
    "                    pavel += child.tag\n",
    "            pairs.append([path2tag(path), pavel])\n",
    "        elif element is None:\n",
    "            pairs.append([path2tag(path), ''])\n",
    "    \"\"\"     \n",
    "    \n",
    "    for path in paths_take_all:\n",
    "        element = file.find(path)\n",
    "        \n",
    "        if element is not None:\n",
    "            reslist = list(element.iter())\n",
    "            if path == paths_take_all[0]:\n",
    "                result = ' '.join(['{} : {}'.format(element.tag, element.text) for element in reslist if element.text is not None])\n",
    "            else:    \n",
    "                result = ' '.join([element.text for element in reslist if element.text is not None])\n",
    "            pairs.append([element.tag, result])\n",
    "        elif element is None:\n",
    "            pairs.append([path2tag(path), ''])\n",
    "            \n",
    "    return pairs \n"
   ]
  },
  {
   "cell_type": "code",
   "execution_count": 8,
   "metadata": {},
   "outputs": [],
   "source": [
    "def write_to_csv(big_pair_list, file_name):\n",
    "    bar3 = pbar(len(big_pair_list))\n",
    "    big= deque()\n",
    "    with open('{}.csv'.format(file_name), 'w') as file:\n",
    "        spamwriter = csv.writer(file, delimiter=',', quotechar=' ',\n",
    "                            quoting=csv.QUOTE_ALL)\n",
    "        for pair_list in big_pair_list:\n",
    "            bar3.update(big_pair_list.index(pair_list))\n",
    "            \n",
    "            #print(pair_list)\n",
    "            tags = []\n",
    "            text = []\n",
    "            \n",
    "            for pair in pair_list:\n",
    "                tags.append(pair[0]) #nul car vraiment trop lent,\n",
    "                text.append(pair[1]) #tout transformer en np.array?\n",
    "            spamwriter.writerow(tags)\n",
    "            spamwriter.writerow(text)\n",
    "            #big.append(tags)\n",
    "            #big.append(text)\n",
    "        np.savetxt(file, np.asarray(big), delimiter=\",\", fmt='%s')\n",
    "            "
   ]
  },
  {
   "cell_type": "code",
   "execution_count": 9,
   "metadata": {},
   "outputs": [],
   "source": [
    "def pbar(maxlen):\n",
    "    \n",
    "    bar = progressbar.ProgressBar(maxval=maxlen, \\\n",
    "    widgets=[progressbar.Bar('=', '[', ']'), ' ', progressbar.Percentage(), ' (', progressbar.ETA(), ') '])\n",
    "    \n",
    "    bar.start()\n",
    "    \n",
    "    return bar"
   ]
  },
  {
   "cell_type": "code",
   "execution_count": 10,
   "metadata": {},
   "outputs": [],
   "source": [
    "def write_years2csv(start, end):\n",
    "    \n",
    "    years = [start + i for i in range(end - start + 1)]\n",
    "    \n",
    "    for i in range(len(years)):\n",
    "        #paths = glob.glob('{}/mpc/*.xml'.format(years[i]))\n",
    "        paths = glob.glob('rand/*.xml')\n",
    "        annonces = []\n",
    "    \n",
    "        bar = pbar(len(paths))\n",
    "        \n",
    "    \n",
    "        for path in paths:\n",
    "            bar.update(paths.index(path))\n",
    "            file = open(path, encoding='ISO-8859-1')\n",
    "            apple = file.read()\n",
    "            \n",
    "            apple = apple.replace('&apos;', \"'\")\n",
    "            apple = apple.replace('&deg;', '°')\n",
    "            apple = apple.replace('&quot;', '\"')\n",
    "            apple = apple.replace('\\t', '')\n",
    "            apple = apple.replace(',', '')\n",
    "            apple = apple.replace('\\n', '')\n",
    "            apple = apple.replace('é', 'e')\n",
    "            apple = apple.replace('ç', 'c')\n",
    "            apple = apple.replace('é','e')\n",
    "            apple = apple.replace('à', 'a')\n",
    "            apple = apple.replace('ù', 'u')\n",
    "            apple = apple.replace('ê','e') #il y a forcément un moyen plus simple\n",
    "            tree = ET.fromstring(apple)\n",
    "            a = tree.getchildren()\n",
    "    \n",
    "            annonces.append(a)\n",
    "    \n",
    "        p = []\n",
    "        bar2 = pbar(len(annonces))\n",
    "        for annonce in annonces:\n",
    "            bar2.update(annonces.index(annonce))\n",
    "            for j in range(len(annonce)):\n",
    "                extracted_annonce = xml_parser(paths_common, paths_take_all, annonce[j])\n",
    "                p.append(extracted_annonce)\n",
    "        write_to_csv(p, years[i])\n",
    "\n",
    "    "
   ]
  },
  {
   "cell_type": "code",
   "execution_count": 11,
   "metadata": {},
   "outputs": [
    {
     "name": "stderr",
     "output_type": "stream",
     "text": [
      "[===================================================== ]  99% (ETA:   0:00:00) "
     ]
    }
   ],
   "source": [
    "write_years2csv(2013, 2013)"
   ]
  },
  {
   "cell_type": "code",
   "execution_count": 14,
   "metadata": {},
   "outputs": [],
   "source": [
    "paths = glob.glob('rand/*.xml')\n",
    "file = open(random.choice(paths), encoding='ISO-8859-1')\n",
    "apple = file.read()\n",
    "apple = apple.replace('&apos;', \"'\")\n",
    "apple = apple.replace('&deg;', '°')\n",
    "apple = apple.replace('&quot;', '\"')\n",
    "tree = ET.fromstring(apple)\n",
    "a = tree.getchildren()\n"
   ]
  },
  {
   "cell_type": "code",
   "execution_count": 20,
   "metadata": {},
   "outputs": [
    {
     "name": "stdout",
     "output_type": "stream",
     "text": [
      "20130110\n",
      "11 juin 2013\n",
      "BOMP C\n"
     ]
    }
   ],
   "source": [
    "for key in tree.keys():\n",
    "    print(tree.get(key))"
   ]
  },
  {
   "cell_type": "code",
   "execution_count": 23,
   "metadata": {},
   "outputs": [
    {
     "data": {
      "text/plain": [
       "'13-102604'"
      ]
     },
     "execution_count": 23,
     "metadata": {},
     "output_type": "execute_result"
    }
   ],
   "source": [
    "a[0].find('GESTION/NOJO').text"
   ]
  },
  {
   "cell_type": "code",
   "execution_count": 148,
   "metadata": {
    "scrolled": true
   },
   "outputs": [
    {
     "data": {
      "text/plain": [
       "[<Element 'NUM_LOT' at 0x7fa8e779a368>,\n",
       " <Element 'NUM_LOT' at 0x7fa8e779a098>,\n",
       " <Element 'DESC' at 0x7fa8e779a778>,\n",
       " <Element 'NOM' at 0x7fa8e779a4f8>,\n",
       " <Element 'ADRESSE' at 0x7fa8e779a6d8>,\n",
       " <Element 'CP' at 0x7fa8e779a638>,\n",
       " <Element 'VILLE' at 0x7fa8e779a688>,\n",
       " <Element 'DATE_ATT_MARCHE' at 0x7fa8e779a908>,\n",
       " <Element 'NB_OFFRES' at 0x7fa8e779ab38>,\n",
       " <Element 'NUM_LOT' at 0x7fa8f38b5728>,\n",
       " <Element 'DESC' at 0x7fa8f38b5048>,\n",
       " <Element 'NOM' at 0x7fa8f38b56d8>,\n",
       " <Element 'ADRESSE' at 0x7fa8f38b5e08>,\n",
       " <Element 'CP' at 0x7fa8f38b5598>,\n",
       " <Element 'VILLE' at 0x7fa8f38b5868>,\n",
       " <Element 'DATE_ATT_MARCHE' at 0x7fa8f38b57c8>,\n",
       " <Element 'NB_OFFRES' at 0x7fa8f38b5778>,\n",
       " <Element 'NUM_LOT' at 0x7fa8f38b58b8>,\n",
       " <Element 'DESC' at 0x7fa8f38b5a98>,\n",
       " <Element 'NOM' at 0x7fa8f38b5c28>,\n",
       " <Element 'ADRESSE' at 0x7fa8f38b5958>,\n",
       " <Element 'CP' at 0x7fa8f38b59a8>,\n",
       " <Element 'VILLE' at 0x7fa8f38b5818>,\n",
       " <Element 'DATE_ATT_MARCHE' at 0x7fa8f38b5908>,\n",
       " <Element 'NB_OFFRES' at 0x7fa8f38b5138>]"
      ]
     },
     "execution_count": 148,
     "metadata": {},
     "output_type": "execute_result"
    }
   ],
   "source": [
    "classes.getchildren()"
   ]
  },
  {
   "cell_type": "code",
   "execution_count": 156,
   "metadata": {},
   "outputs": [],
   "source": [
    "reslist = list(classes.iter())\n",
    "result = ' '.join([\"{}: {}\".format(element.tag, element.text) for element in reslist if element.text is not None])"
   ]
  },
  {
   "cell_type": "code",
   "execution_count": 189,
   "metadata": {},
   "outputs": [
    {
     "data": {
      "text/plain": [
       "'hey'"
      ]
     },
     "execution_count": 189,
     "metadata": {},
     "output_type": "execute_result"
    }
   ],
   "source": [
    "''.join([\"hey\"])"
   ]
  }
 ],
 "metadata": {
  "kernelspec": {
   "display_name": "Python 3",
   "language": "python",
   "name": "python3"
  },
  "language_info": {
   "codemirror_mode": {
    "name": "ipython",
    "version": 3
   },
   "file_extension": ".py",
   "mimetype": "text/x-python",
   "name": "python",
   "nbconvert_exporter": "python",
   "pygments_lexer": "ipython3",
   "version": "3.5.2"
  }
 },
 "nbformat": 4,
 "nbformat_minor": 2
}
