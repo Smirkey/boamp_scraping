{
 "cells": [
  {
   "cell_type": "code",
   "execution_count": 404,
   "metadata": {},
   "outputs": [],
   "source": [
    "import glob\n",
    "import zipfile \n",
    "import os\n",
    "import xml.etree.ElementTree as ET\n",
    "import collections\n",
    "import csv\n",
    "import random\n",
    "from bs4 import BeautifulSoup"
   ]
  },
  {
   "cell_type": "code",
   "execution_count": 298,
   "metadata": {},
   "outputs": [],
   "source": [
    "    paths_nicaa = ['GESTION/REFERENCE/IDWEB',\n",
    "                   'GESTION/MARCHE/ANNONCE_ANTERIEUR/REFERENCE/IDWEB',\n",
    "                   'DONNEES/IDENTITE/',\n",
    "                   'DONNEES/OBJET/OBJET_COMPLET']"
   ]
  },
  {
   "cell_type": "code",
   "execution_count": 393,
   "metadata": {},
   "outputs": [],
   "source": [
    "paths = glob.glob('2005/*/*.xml')\n",
    "k = 0\n",
    "for path in paths:\n",
    "    file = open(path, encoding='ISO-8859-1')\n",
    "    apple = file.read()\n",
    "    apple = apple.replace('&apos;', \"'\")\n",
    "    apple = apple.replace('&deg;', '°')\n",
    "    apple = apple.replace('&quot;', '\"')\n",
    "    tree = ET.fromstring(apple)\n",
    "    annonces = tree.getchildren()\n",
    "    \n",
    "    k+= len(annonces)"
   ]
  },
  {
   "cell_type": "code",
   "execution_count": null,
   "metadata": {},
   "outputs": [],
   "source": [
    "def xml_parser(paths, file):\n",
    "    \n",
    "    for path in paths:\n",
    "        for element in root.find(path):\n",
    "            pairs.append([element.tag, element.text])\n",
    "    return pairs"
   ]
  },
  {
   "cell_type": "code",
   "execution_count": 320,
   "metadata": {},
   "outputs": [],
   "source": [
    "d = annonces[0].find('DONNEES')"
   ]
  },
  {
   "cell_type": "code",
   "execution_count": 367,
   "metadata": {},
   "outputs": [
    {
     "data": {
      "text/plain": [
       "'BWP053410400730'"
      ]
     },
     "execution_count": 367,
     "metadata": {},
     "output_type": "execute_result"
    }
   ],
   "source": [
    "annonces[0].find('GESTION/').text"
   ]
  },
  {
   "cell_type": "code",
   "execution_count": 387,
   "metadata": {},
   "outputs": [
    {
     "data": {
      "text/plain": [
       "[<Element 'INFO' at 0x7f81871a8e08>,\n",
       " <Element 'IDENT' at 0x7f81871a8b38>,\n",
       " <Element 'OBJET' at 0x7f8186f14048>,\n",
       " <Element 'CARACTERISTIQUES' at 0x7f8186e0cdb8>,\n",
       " <Element 'DUREE' at 0x7f8186e0cb38>,\n",
       " <Element 'CONDITIONS' at 0x7f8186e0ce08>,\n",
       " <Element 'PROCEDURE' at 0x7f8186f09048>,\n",
       " <Element 'DELAI' at 0x7f8184b146d8>,\n",
       " <Element 'RENSEIGNEMENTS' at 0x7f8184b14048>,\n",
       " <Element 'ENVOI_BOMP' at 0x7f8184b14138>,\n",
       " <Element 'CORRESPONDANTS' at 0x7f8184b14368>,\n",
       " <Element 'DOCUMENTS' at 0x7f8184b14228>,\n",
       " <Element 'LOTS' at 0x7f8186a00048>,\n",
       " <Element 'CLASSES' at 0x7f81869a0a98>,\n",
       " <Element 'AUTRES' at 0x7f81869a0a48>,\n",
       " <Element 'AUTRES' at 0x7f81869a0908>,\n",
       " <Element 'DESCRIPTEURS' at 0x7f81869a0778>,\n",
       " <Element 'AUTRES' at 0x7f81869a0818>]"
      ]
     },
     "execution_count": 387,
     "metadata": {},
     "output_type": "execute_result"
    }
   ],
   "source": [
    "annonces[0].find('DONNEES').getchildren()"
   ]
  },
  {
   "cell_type": "code",
   "execution_count": 415,
   "metadata": {},
   "outputs": [],
   "source": [
    "soup = BeautifulSoup(apple, 'lxml')"
   ]
  },
  {
   "cell_type": "code",
   "execution_count": 420,
   "metadata": {},
   "outputs": [
    {
     "data": {
      "text/plain": [
       "[]"
      ]
     },
     "execution_count": 420,
     "metadata": {},
     "output_type": "execute_result"
    }
   ],
   "source": [
    "soup.find_all('DONNEES')"
   ]
  }
 ],
 "metadata": {
  "kernelspec": {
   "display_name": "Python 3",
   "language": "python",
   "name": "python3"
  },
  "language_info": {
   "codemirror_mode": {
    "name": "ipython",
    "version": 3
   },
   "file_extension": ".py",
   "mimetype": "text/x-python",
   "name": "python",
   "nbconvert_exporter": "python",
   "pygments_lexer": "ipython3",
   "version": "3.5.2"
  }
 },
 "nbformat": 4,
 "nbformat_minor": 2
}
