{
 "cells": [
  {
   "cell_type": "code",
   "execution_count": 1,
   "metadata": {},
   "outputs": [],
   "source": [
    "import glob\n",
    "import zipfile \n",
    "import os\n",
    "import xml.etree.ElementTree as ET\n",
    "import collections\n",
    "import csv\n",
    "import random\n",
    "from bs4 import BeautifulSoup\n",
    "import progressbar\n",
    "import numpy as np\n",
    "from collections import deque"
   ]
  },
  {
   "cell_type": "code",
   "execution_count": 245,
   "metadata": {},
   "outputs": [],
   "source": [
    "paths_common = ['GESTION/NOJO',\n",
    "                'GESTION/TETIER_R4',\n",
    "                'GESTION/NOM_HTML',\n",
    "                'DONNEES/IDENT/NOM',\n",
    "                'DONNEES/IDENT/PRM',\n",
    "                'DONNEES/IDENT/ADRESSE',\n",
    "                'DONNEES/IDENT/CP',\n",
    "                'DONNEES/IDENT/VILLE',\n",
    "                'DONNEES/IDENT/MEL',\n",
    "                'DONNEES/IDENT/TEL',\n",
    "                'DONNEES/OBJET/OBJET_COMPLET'\n",
    "                ]\n",
    "\n",
    "#give_me_the_tag = ['DONNEES/INFO',\n",
    "                   #'DONNEES/TYPE_ACTIVITE_ORG']\n",
    "\n",
    "paths_take_all = ['DONNEES/CLASSES',\n",
    "                  'DONNEES/DESCRIPTEURS',\n",
    "                  'DONNEES/CARACTERISTIQUES']\n",
    "\n",
    "jump_a_line = ['DONNEES/PROCEDURES/LOTS']\n",
    "\n",
    "tags = []\n",
    "for path in paths_common:\n",
    "    tags.append(path2tag(path))\n",
    "for path in paths_take_all:\n",
    "    tags.append(path2tag(path))\n",
    "tags.append('LOTS')"
   ]
  },
  {
   "cell_type": "code",
   "execution_count": 246,
   "metadata": {},
   "outputs": [],
   "source": [
    "def path2tag(path):\n",
    "    pavel = ''\n",
    "    for i in reversed(path):\n",
    "        if i != '/':\n",
    "            pavel += i\n",
    "        if i == '/':\n",
    "            break\n",
    "    return pavel[::-1]"
   ]
  },
  {
   "cell_type": "code",
   "execution_count": 249,
   "metadata": {},
   "outputs": [],
   "source": [
    "def give_me_your_dict(annonce):\n",
    "    lots = []\n",
    "    out = []\n",
    "    if annonce.find('DONNEES/PROCEDURES/LOTS') is not None:\n",
    "        reslit = list(annonce.find('DONNEES/PROCEDURES/LOTS').iter())\n",
    "    else:\n",
    "        return out\n",
    "    \n",
    "    if reslit is not None:\n",
    "        for element in reslit:\n",
    "            if element.tag == 'NUM_LOT' and element.text is not None:\n",
    "                sub_list = []\n",
    "                for lot_element in reslit[reslit.index(element):]:\n",
    "                    sub_list.append(lot_element)\n",
    "                    if reslit.index(lot_element) + 1 < len(reslit):\n",
    "                        next_element = reslit[reslit.index(lot_element) + 1]\n",
    "                \n",
    "                        if next_element.tag == 'NUM_LOT' and next_element.text is not None:\n",
    "                            lots.append(sub_list)\n",
    "                            break\n",
    "    for arr in lots:\n",
    "        out.append({element.tag: element.text for element in arr})\n",
    "        \n",
    "    return out"
   ]
  },
  {
   "cell_type": "code",
   "execution_count": 224,
   "metadata": {},
   "outputs": [],
   "source": [
    "def xml_parser(paths_common, paths_take_all, file):\n",
    "    rowsamarr = []\n",
    "    rows = []\n",
    "    \n",
    "    for path in paths_common:\n",
    "        element = file.find(path)\n",
    "        if element is not None:\n",
    "            if element.text is not None:\n",
    "                rows.append(element.text)\n",
    "            else:\n",
    "                rows.append('')\n",
    "        elif element is None:\n",
    "            rows.append('')\n",
    "    \"\"\"\n",
    "    for path in give_me_the_tag:\n",
    "        element = file.find(path)\n",
    "        pavel = ''\n",
    "        if element is not None:\n",
    "            for child in element.getchildren():\n",
    "                if child is not None:\n",
    "                    pavel += child.tag\n",
    "            pairs.append([path2tag(path), pavel])\n",
    "        elif element is None:\n",
    "            pairs.append([path2tag(path), ''])\n",
    "    \"\"\"     \n",
    "    \n",
    "    for path in paths_take_all:\n",
    "        element = file.find(path)\n",
    "        if element is not None:\n",
    "            reslist = list(element.iter()) \n",
    "            result = ' '.join([element.text for element in reslist if element.text is not None])\n",
    "            rows.append(result)\n",
    "        elif element is None:\n",
    "            rows.append('')\n",
    "    \n",
    "    lots = give_me_your_dict(file)\n",
    "    if len(lots) > 0:\n",
    "        rows.append(lots[0])\n",
    "        rowsamarr.append(rows)\n",
    "        if len(lots) > 1:\n",
    "            for lot in lots[1:]:\n",
    "                row = ['' for i in range(len(tags) - 1)]\n",
    "                row.append(lot)\n",
    "                rowsamarr.append(row)\n",
    "    else:\n",
    "        rowsamarr.append(rows)\n",
    "        \n",
    "    return rowsamarr, tags \n"
   ]
  },
  {
   "cell_type": "code",
   "execution_count": 243,
   "metadata": {},
   "outputs": [],
   "source": [
    "def write_to_csv(big_row_list, file_name, tags, year):\n",
    "    bar3 = pbar(len(big_row_list))\n",
    "    \n",
    "    with open('{}.csv'.format(file_name), 'w') as file:\n",
    "        spamwriter = csv.writer(file, delimiter=';', quotechar=' ',\n",
    "                            quoting=csv.QUOTE_ALL)\n",
    "        spamwriter.writerow(tags)\n",
    "        print('{} rows for year {}'.format(len(big_row_list), year))\n",
    "        for row in big_row_list:\n",
    "            for sub_row in row:\n",
    "                spamwriter.writerow(sub_row)\n",
    "        \n",
    "            "
   ]
  },
  {
   "cell_type": "code",
   "execution_count": 228,
   "metadata": {},
   "outputs": [],
   "source": [
    "def pbar(maxlen):\n",
    "    \n",
    "    bar = progressbar.ProgressBar(maxval=maxlen, \\\n",
    "    widgets=[progressbar.Bar('=', '[', ']'), ' ', progressbar.Percentage(), ' (', progressbar.ETA(), ') '])\n",
    "    \n",
    "    bar.start()\n",
    "    \n",
    "    return bar"
   ]
  },
  {
   "cell_type": "code",
   "execution_count": 229,
   "metadata": {},
   "outputs": [],
   "source": [
    "def write_years2csv(start, end):\n",
    "    \n",
    "    years = [start + i for i in range(end - start + 1)]\n",
    "    bar3 = pbar(len(years))\n",
    "\n",
    "    \n",
    "    for i in range(len(years)):\n",
    "        bar3.update(i)\n",
    "        paths = glob.glob('{}/mp*/*.xml'.format(years[i]))\n",
    "        #paths = glob.glob('rand/*.xml')\n",
    "        annonces = []\n",
    "    \n",
    "        bar = pbar(len(paths))\n",
    "        \n",
    "    \n",
    "        for path in paths:\n",
    "            bar.update(paths.index(path))\n",
    "            file = open(path, encoding='ISO-8859-1')\n",
    "            apple = file.read()\n",
    "            \n",
    "            apple = apple.replace('&apos;', \"'\")\n",
    "            apple = apple.replace('&deg;', '°')\n",
    "            apple = apple.replace('&quot;', '\"')\n",
    "            apple = apple.replace('\\t', '')\n",
    "            apple = apple.replace(',', '')\n",
    "            apple = apple.replace('\\n', '')\n",
    "            apple = apple.replace('é', 'e')\n",
    "            apple = apple.replace('ç', 'c')\n",
    "            apple = apple.replace('è','e')\n",
    "            apple = apple.replace('à', 'a')\n",
    "            apple = apple.replace('ù', 'u')\n",
    "            apple = apple.replace('ê','e') #il y a forcément un moyen plus simple\n",
    "            tree = ET.fromstring(apple)\n",
    "            a = tree.getchildren()\n",
    "    \n",
    "            annonces.append(a)\n",
    "    \n",
    "        pavel = []\n",
    "        bar2 = pbar(len(annonces))\n",
    "        for annonce in annonces:\n",
    "            bar2.update(annonces.index(annonce))\n",
    "            for j in range(len(annonce)):\n",
    "                extracted_annonce, tags = xml_parser(paths_common, paths_take_all, annonce[j])\n",
    "                p.append(extracted_annonce)\n",
    "                \n",
    "        write_to_csv(pavel, years[i], tags, years[i])\n",
    "\n",
    "\n",
    "    "
   ]
  },
  {
   "cell_type": "code",
   "execution_count": null,
   "metadata": {},
   "outputs": [
    {
     "name": "stderr",
     "output_type": "stream",
     "text": [
      "[                                                      ] N/A% (ETA:  --:--:--) "
     ]
    },
    {
     "name": "stdout",
     "output_type": "stream",
     "text": [
      "181247 rows for year 2005\n"
     ]
    },
    {
     "name": "stderr",
     "output_type": "stream",
     "text": [
      "[                                                      ] N/A% (ETA:  --:--:--) "
     ]
    },
    {
     "name": "stdout",
     "output_type": "stream",
     "text": [
      "200116 rows for year 2006\n"
     ]
    },
    {
     "name": "stderr",
     "output_type": "stream",
     "text": [
      "[                                                      ] N/A% (ETA:  --:--:--) "
     ]
    },
    {
     "name": "stdout",
     "output_type": "stream",
     "text": [
      "195950 rows for year 2007\n"
     ]
    },
    {
     "name": "stderr",
     "output_type": "stream",
     "text": [
      "[                                                      ] N/A% (ETA:  --:--:--) "
     ]
    },
    {
     "name": "stdout",
     "output_type": "stream",
     "text": [
      "180415 rows for year 2008\n"
     ]
    },
    {
     "name": "stderr",
     "output_type": "stream",
     "text": [
      "[                                                      ] N/A% (ETA:  --:--:--) "
     ]
    },
    {
     "name": "stdout",
     "output_type": "stream",
     "text": [
      "177523 rows for year 2009\n"
     ]
    },
    {
     "name": "stderr",
     "output_type": "stream",
     "text": [
      "[=================                                     ]  31% (ETA:   0:00:28) "
     ]
    }
   ],
   "source": [
    "write_years2csv(2005, 2014)"
   ]
  },
  {
   "cell_type": "code",
   "execution_count": 15,
   "metadata": {},
   "outputs": [],
   "source": [
    "paths = glob.glob('rand/*.xml')\n",
    "file = open(random.choice(paths), encoding='ISO-8859-1')\n",
    "apple = file.read()\n",
    "apple = apple.replace('&apos;', \"'\")\n",
    "apple = apple.replace('&deg;', '°')\n",
    "apple = apple.replace('&quot;', '\"')\n",
    "tree = ET.fromstring(apple)\n",
    "a = tree.getchildren()\n"
   ]
  },
  {
   "cell_type": "code",
   "execution_count": 20,
   "metadata": {},
   "outputs": [
    {
     "name": "stdout",
     "output_type": "stream",
     "text": [
      "20130110\n",
      "11 juin 2013\n",
      "BOMP C\n"
     ]
    }
   ],
   "source": [
    "for key in tree.keys():\n",
    "    print(tree.get(key))"
   ]
  },
  {
   "cell_type": "code",
   "execution_count": 133,
   "metadata": {},
   "outputs": [
    {
     "name": "stdout",
     "output_type": "stream",
     "text": [
      "13\n"
     ]
    }
   ],
   "source": [
    "print(len(a[26].findall('DONNEES/PROCEDURES/LOTS/NUM_LOT')))\n",
    "reslit = list(a[26].find('DONNEES/PROCEDURES/LOTS').iter())"
   ]
  },
  {
   "cell_type": "code",
   "execution_count": 242,
   "metadata": {},
   "outputs": [
    {
     "data": {
      "text/plain": [
       "1"
      ]
     },
     "execution_count": 242,
     "metadata": {},
     "output_type": "execute_result"
    }
   ],
   "source": [
    "len(p[0])"
   ]
  }
 ],
 "metadata": {
  "kernelspec": {
   "display_name": "Python 3",
   "language": "python",
   "name": "python3"
  },
  "language_info": {
   "codemirror_mode": {
    "name": "ipython",
    "version": 3
   },
   "file_extension": ".py",
   "mimetype": "text/x-python",
   "name": "python",
   "nbconvert_exporter": "python",
   "pygments_lexer": "ipython3",
   "version": "3.5.2"
  }
 },
 "nbformat": 4,
 "nbformat_minor": 2
}
