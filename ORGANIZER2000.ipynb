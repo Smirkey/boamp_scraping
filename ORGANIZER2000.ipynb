{
 "cells": [
  {
   "cell_type": "code",
   "execution_count": 412,
   "metadata": {},
   "outputs": [],
   "source": [
    "import glob\n",
    "import zipfile \n",
    "import os\n",
    "import xml.etree.ElementTree as ET\n",
    "import collections\n",
    "import csv\n",
    "import random\n",
    "from bs4 import BeautifulSoup\n",
    "import progressbar"
   ]
  },
  {
   "cell_type": "code",
   "execution_count": 236,
   "metadata": {},
   "outputs": [],
   "source": [
    "paths_common = ['GESTION',\n",
    "                'DONNEES/CLASSES',\n",
    "                'DONNEES/IDENT',\n",
    "                'DONNEES/OBJET',\n",
    "                'DONNEES/DESCRIPTEURS'\n",
    "                'DONNEES/PROCEDURES/LOTS'\n",
    "                'DONNEES/PROCEDURES/AUTRES']"
   ]
  },
  {
   "cell_type": "code",
   "execution_count": 387,
   "metadata": {},
   "outputs": [],
   "source": [
    "def clean_pair(pair):\n",
    "    new_pair = ['','']\n",
    "    for i in range(len(pair)):\n",
    "        new_pair[i] = pair[i].replace(',', '')\n",
    "        new_pair[i] = new_pair[i].replace('\\n', '')\n",
    "    return new_pair"
   ]
  },
  {
   "cell_type": "code",
   "execution_count": 206,
   "metadata": {},
   "outputs": [],
   "source": [
    "paths = glob.glob('2013/*/*.xml')\n",
    "k = 0\n",
    "annonces = []\n",
    "for path in paths:\n",
    "    file = open(path, encoding='ISO-8859-1')\n",
    "    apple = file.read()\n",
    "    apple = apple.replace('&apos;', \"'\")\n",
    "    apple = apple.replace('&deg;', '°')\n",
    "    apple = apple.replace('&quot;', '\"')\n",
    "    tree = ET.fromstring(apple)\n",
    "    a = tree.getchildren()\n",
    "    \n",
    "    annonces.append(a)"
   ]
  },
  {
   "cell_type": "code",
   "execution_count": 375,
   "metadata": {},
   "outputs": [],
   "source": [
    "def xml_parser(paths, file):\n",
    "    pairs=[]\n",
    "    for path in paths:\n",
    "        if file.find(path) is not None: \n",
    "            for element in file.find(path):\n",
    "                #print(element)\n",
    "                if element.tag and element.text is not None:\n",
    "                    pairs.append(clean_pair([element.tag, element.text]))\n",
    "    return pairs"
   ]
  },
  {
   "cell_type": "code",
   "execution_count": 388,
   "metadata": {},
   "outputs": [],
   "source": [
    "p = []\n",
    "for i in range(len(annonces)):\n",
    "    for j in range(len(annonces[i])):\n",
    "        p.append(xml_parser(paths_common, annonces[i][j]))"
   ]
  },
  {
   "cell_type": "code",
   "execution_count": 418,
   "metadata": {},
   "outputs": [],
   "source": [
    "def write_to_csv(big_pair_list, file_name):\n",
    "    bar3 = pbar(len(big_pair_list))\n",
    "    with open('{}.csv'.format(file_name), 'w') as file:\n",
    "        spamwriter = csv.writer(file, delimiter=',', quotechar=' ',\n",
    "                            quoting=csv.QUOTE_ALL)\n",
    "        for pair_list in big_pair_list:\n",
    "            bar3.update(big_pair_list.index(pair_list))\n",
    "            \n",
    "            #print(pair_list)\n",
    "            tags = []\n",
    "            text = []\n",
    "            for pair in pair_list:\n",
    "                tags.append(pair[0])\n",
    "                text.append(pair[1])\n",
    "            spamwriter.writerow(tags)\n",
    "            spamwriter.writerow(text)"
   ]
  },
  {
   "cell_type": "code",
   "execution_count": 410,
   "metadata": {},
   "outputs": [],
   "source": [
    "def pbar(maxlen):\n",
    "    \n",
    "    bar = progressbar.ProgressBar(maxval=maxlen, \\\n",
    "    widgets=[progressbar.Bar('=', '[', ']'), ' ', progressbar.Percentage(), ' (', progressbar.ETA(), ') '])\n",
    "    \n",
    "    bar.start()\n",
    "    \n",
    "    return bar"
   ]
  },
  {
   "cell_type": "code",
   "execution_count": 406,
   "metadata": {},
   "outputs": [],
   "source": [
    "years = [2005 + i for i in range(10)]"
   ]
  },
  {
   "cell_type": "code",
   "execution_count": 421,
   "metadata": {},
   "outputs": [
    {
     "name": "stderr",
     "output_type": "stream",
     "text": [
      "[===============================================       ]  87% (ETA:   0:06:47) "
     ]
    },
    {
     "ename": "KeyboardInterrupt",
     "evalue": "",
     "output_type": "error",
     "traceback": [
      "\u001b[0;31m---------------------------------------------------------------------------\u001b[0m",
      "\u001b[0;31mKeyboardInterrupt\u001b[0m                         Traceback (most recent call last)",
      "\u001b[0;32m<ipython-input-421-d1936d4f4011>\u001b[0m in \u001b[0;36m<module>\u001b[0;34m()\u001b[0m\n\u001b[1;32m     23\u001b[0m         \u001b[0;32mfor\u001b[0m \u001b[0mj\u001b[0m \u001b[0;32min\u001b[0m \u001b[0mrange\u001b[0m\u001b[0;34m(\u001b[0m\u001b[0mlen\u001b[0m\u001b[0;34m(\u001b[0m\u001b[0mannonces\u001b[0m\u001b[0;34m[\u001b[0m\u001b[0mi\u001b[0m\u001b[0;34m]\u001b[0m\u001b[0;34m)\u001b[0m\u001b[0;34m)\u001b[0m\u001b[0;34m:\u001b[0m\u001b[0;34m\u001b[0m\u001b[0m\n\u001b[1;32m     24\u001b[0m             \u001b[0mp\u001b[0m\u001b[0;34m.\u001b[0m\u001b[0mappend\u001b[0m\u001b[0;34m(\u001b[0m\u001b[0mxml_parser\u001b[0m\u001b[0;34m(\u001b[0m\u001b[0mpaths_common\u001b[0m\u001b[0;34m,\u001b[0m \u001b[0mannonces\u001b[0m\u001b[0;34m[\u001b[0m\u001b[0mi\u001b[0m\u001b[0;34m]\u001b[0m\u001b[0;34m[\u001b[0m\u001b[0mj\u001b[0m\u001b[0;34m]\u001b[0m\u001b[0;34m)\u001b[0m\u001b[0;34m)\u001b[0m\u001b[0;34m\u001b[0m\u001b[0m\n\u001b[0;32m---> 25\u001b[0;31m     \u001b[0mwrite_to_csv\u001b[0m\u001b[0;34m(\u001b[0m\u001b[0mp\u001b[0m\u001b[0;34m,\u001b[0m \u001b[0myear\u001b[0m\u001b[0;34m)\u001b[0m\u001b[0;34m\u001b[0m\u001b[0m\n\u001b[0m",
      "\u001b[0;32m<ipython-input-418-afc014f68298>\u001b[0m in \u001b[0;36mwrite_to_csv\u001b[0;34m(big_pair_list, file_name)\u001b[0m\n\u001b[1;32m      5\u001b[0m                             quoting=csv.QUOTE_ALL)\n\u001b[1;32m      6\u001b[0m         \u001b[0;32mfor\u001b[0m \u001b[0mpair_list\u001b[0m \u001b[0;32min\u001b[0m \u001b[0mbig_pair_list\u001b[0m\u001b[0;34m:\u001b[0m\u001b[0;34m\u001b[0m\u001b[0m\n\u001b[0;32m----> 7\u001b[0;31m             \u001b[0mbar3\u001b[0m\u001b[0;34m.\u001b[0m\u001b[0mupdate\u001b[0m\u001b[0;34m(\u001b[0m\u001b[0mbig_pair_list\u001b[0m\u001b[0;34m.\u001b[0m\u001b[0mindex\u001b[0m\u001b[0;34m(\u001b[0m\u001b[0mpair_list\u001b[0m\u001b[0;34m)\u001b[0m\u001b[0;34m)\u001b[0m\u001b[0;34m\u001b[0m\u001b[0m\n\u001b[0m\u001b[1;32m      8\u001b[0m \u001b[0;34m\u001b[0m\u001b[0m\n\u001b[1;32m      9\u001b[0m             \u001b[0;31m#print(pair_list)\u001b[0m\u001b[0;34m\u001b[0m\u001b[0;34m\u001b[0m\u001b[0m\n",
      "\u001b[0;31mKeyboardInterrupt\u001b[0m: "
     ]
    }
   ],
   "source": [
    "for i in range(len(years)):\n",
    "    paths = glob.glob('{}/mp*/*.xml'.format(years[i]))\n",
    "    annonces = []\n",
    "    \n",
    "    bar = pbar(len(paths))\n",
    "    \n",
    "    for j in range(len(paths)):\n",
    "        bar.update(j)\n",
    "        file = open(paths[j], encoding='ISO-8859-1')\n",
    "        apple = file.read()\n",
    "        apple = apple.replace('&apos;', \"'\")\n",
    "        apple = apple.replace('&deg;', '°')\n",
    "        apple = apple.replace('&quot;', '\"')\n",
    "        tree = ET.fromstring(apple)\n",
    "        a = tree.getchildren()\n",
    "    \n",
    "        annonces.append(a)\n",
    "    \n",
    "    p = []\n",
    "    bar2 = pbar(len(annonces))\n",
    "    for i in range(len(annonces)):\n",
    "        bar2.update(i)\n",
    "        for j in range(len(annonces[i])):\n",
    "            p.append(xml_parser(paths_common, annonces[i][j]))\n",
    "    write_to_csv(p, year)"
   ]
  },
  {
   "cell_type": "code",
   "execution_count": 431,
   "metadata": {},
   "outputs": [],
   "source": [
    "def write_years2csv(start, end):\n",
    "    \n",
    "    years_array = [start + i for i in range(end - start + 1)]\n",
    "    \n",
    "    for i in range(len(years)):\n",
    "        paths = glob.glob('{}/mp*/*.xml'.format(years[i]))\n",
    "        annonces = []\n",
    "    \n",
    "        bar = pbar(len(paths))\n",
    "    \n",
    "        for path in paths:\n",
    "            bar.update(paths.index(path))\n",
    "            file = open(path, encoding='ISO-8859-1')\n",
    "            apple = file.read()\n",
    "            apple = apple.replace('&apos;', \"'\")\n",
    "            apple = apple.replace('&deg;', '°')\n",
    "            apple = apple.replace('&quot;', '\"')\n",
    "            tree = ET.fromstring(apple)\n",
    "            a = tree.getchildren()\n",
    "    \n",
    "            annonces.append(a)\n",
    "    \n",
    "        p = []\n",
    "        bar2 = pbar(len(annonces))\n",
    "        for annonce in annonces:\n",
    "            bar2.update(annonces.index(annonce))\n",
    "            for j in range(len(annonce)):\n",
    "                p.append(xml_parser(paths_common, annonce[j]))\n",
    "        write_to_csv(p, year)\n",
    "\n",
    "    "
   ]
  },
  {
   "cell_type": "code",
   "execution_count": null,
   "metadata": {},
   "outputs": [
    {
     "name": "stderr",
     "output_type": "stream",
     "text": [
      "[================================                      ]  60% (ETA:   0:10:53) "
     ]
    }
   ],
   "source": [
    "write_years2csv(2005, 2006)"
   ]
  }
 ],
 "metadata": {
  "kernelspec": {
   "display_name": "Python 3",
   "language": "python",
   "name": "python3"
  },
  "language_info": {
   "codemirror_mode": {
    "name": "ipython",
    "version": 3
   },
   "file_extension": ".py",
   "mimetype": "text/x-python",
   "name": "python",
   "nbconvert_exporter": "python",
   "pygments_lexer": "ipython3",
   "version": "3.5.2"
  }
 },
 "nbformat": 4,
 "nbformat_minor": 2
}
